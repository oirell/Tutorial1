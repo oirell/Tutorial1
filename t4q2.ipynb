{
 "cells": [
  {
   "cell_type": "code",
   "execution_count": 24,
   "id": "e64f3ad9",
   "metadata": {},
   "outputs": [],
   "source": [
    "# imports\n",
    "\n",
    "import torch\n",
    "import numpy as np \n",
    "import matplotlib.pyplot as plt\n",
    "import torch.nn as nn"
   ]
  },
  {
   "cell_type": "markdown",
   "id": "0314357f",
   "metadata": {},
   "source": [
    "### Play around"
   ]
  },
  {
   "cell_type": "code",
   "execution_count": 60,
   "id": "64464596",
   "metadata": {},
   "outputs": [
    {
     "name": "stdout",
     "output_type": "stream",
     "text": [
      "V:  tensor([[ 0.9154,  0.0511, -0.2565],\n",
      "        [ 0.6815, -0.3685, -0.1929],\n",
      "        [ 0.2204,  1.0455, -0.0959]])\n",
      "c:  tensor([[-0.1598,  0.0408,  0.1191]])\n",
      "W:  tensor([[-0.1116,  0.9866,  0.1860],\n",
      "        [-0.6595,  0.3315,  0.9177]])\n",
      "b:  tensor([[-0.0094,  0.0172,  0.0019]])\n"
     ]
    }
   ],
   "source": [
    "# training patterns\n",
    "X = torch.tensor([[1, 1], [0, 1], [3, 4], [2, 2], [2, -2], [-2, -3]], dtype=torch.float)\n",
    "D = torch.tensor([0,0,1,1,2,2], dtype=torch.long)\n",
    "\n",
    "K = torch.tensor([[1,0,0], [1,0,0], [0,1,0], [0,1,0], [0,0,1], [0,0,1]])\n",
    "\n",
    "# weights and biases\n",
    "W = torch.tensor([[-0.1, 0.97, 0.18], [-0.7, 0.38, 0.93]], dtype=torch.float)\n",
    "b = torch.tensor([[0,0,0]], dtype=torch.float)\n",
    "\n",
    "V = torch.tensor([[1.01, 0.09, -0.39], [0.79, -0.45, -0.22], [0.28, 0.96, -0.07]], dtype=torch.float)\n",
    "c = torch.tensor([[0,0,0]], dtype=torch.float)\n",
    "\n",
    "# one iteration\n",
    "# forward propagation\n",
    "Z = torch.matmul(X, W)+b\n",
    "H = torch.sigmoid(Z)\n",
    "\n",
    "U = torch.matmul(H, V)+c\n",
    "fU = torch.softmax(U, 1)\n",
    "\n",
    "Y = torch.argmax(fU,1)\n",
    "\n",
    "# gradients\n",
    "DUJ = -(K-fU)\n",
    "DZJ = torch.matmul(DUJ,V)*H*(1-H)\n",
    "\n",
    "# backward propagation\n",
    "V = V-0.1*torch.matmul(H.T,DUJ)\n",
    "c = c-0.1*torch.sum(DUJ, dim=0)\n",
    "W = W-0.1*torch.matmul(X.T,DZJ)\n",
    "b = b-0.1*torch.sum(DZJ, dim=0)\n",
    "\n",
    "print(\"V: \", V)\n",
    "print(\"c: \", c)\n",
    "print(\"W: \", W)\n",
    "print(\"b: \", b)\n",
    "\n"
   ]
  },
  {
   "cell_type": "markdown",
   "id": "66480a5b",
   "metadata": {},
   "source": [
    "### Actual training"
   ]
  },
  {
   "cell_type": "code",
   "execution_count": 103,
   "id": "a9472102",
   "metadata": {},
   "outputs": [],
   "source": [
    "# parameters\n",
    "\n",
    "# training patterns\n",
    "X = torch.tensor([[1, 1], [0, 1], [3, 4], [2, 2], [2, -2], [-2, -3]], dtype=torch.float)\n",
    "D = torch.tensor([0,0,1,1,2,2], dtype=torch.long)\n",
    "\n",
    "K = torch.tensor([[1,0,0], [1,0,0], [0,1,0], [0,1,0], [0,0,1], [0,0,1]])\n",
    "\n",
    "# weights and biases\n",
    "W_init = torch.tensor([[-0.1, 0.97, 0.18], [-0.7, 0.38, 0.93]], dtype=torch.float)\n",
    "b_init = torch.tensor([[0,0,0]], dtype=torch.float)\n",
    "\n",
    "V_init = torch.tensor([[1.01, 0.09, -0.39], [0.79, -0.45, -0.22], [0.28, 0.96, -0.07]], dtype=torch.float)\n",
    "c_init = torch.tensor([[0,0,0]], dtype=torch.float)\n"
   ]
  },
  {
   "cell_type": "code",
   "execution_count": 104,
   "id": "935cd7fe",
   "metadata": {},
   "outputs": [],
   "source": [
    "# class for the network\n",
    "\n",
    "class twoLayerNN():\n",
    "    def __init__(self):\n",
    "        self.W = W_init\n",
    "        self.b = b_init\n",
    "        self.V = V_init\n",
    "        self.c = c_init\n",
    "\n",
    "    def __call__(self, X):\n",
    "        Z = torch.matmul(X,self.W)+self.b\n",
    "        H = torch.sigmoid(Z)\n",
    "        U = torch.matmul(H,self.V)+self.c\n",
    "        fU = torch.softmax(U, 1)\n",
    "        Y = torch.argmax(fU, 1)\n",
    "        return Z, H, U, fU, Y\n"
   ]
  },
  {
   "cell_type": "code",
   "execution_count": 105,
   "id": "1043c9da",
   "metadata": {},
   "outputs": [],
   "source": [
    "# loss function\n",
    "\n",
    "def loss_fn(U, target_d):\n",
    "    cross_loss = nn.CrossEntropyLoss()\n",
    "    return cross_loss(U, target_d)"
   ]
  },
  {
   "cell_type": "code",
   "execution_count": 106,
   "id": "539295da",
   "metadata": {},
   "outputs": [],
   "source": [
    "# function training the network\n",
    "\n",
    "def train(model, X, K, lr):\n",
    "    # forward propagation\n",
    "    Z, H, U, fU, Y = model(X)\n",
    "    \n",
    "    # gradients\n",
    "    DUJ = -(K-fU)\n",
    "    DZJ = torch.matmul(DUJ, model.V)*H*(1-H)\n",
    "\n",
    "    # backward propagation\n",
    "    model.V = model.V-lr*torch.matmul(H.T, DUJ)\n",
    "    model.c = model.c-lr*torch.sum(DUJ, dim=0)\n",
    "    model.W = model.W-lr*torch.matmul(X.T, DZJ)\n",
    "    model.b = model.b-lr*torch.sum(DZJ, dim=0)\n",
    "\n",
    "    return model.V, model.c, model.W, model.b\n"
   ]
  },
  {
   "cell_type": "code",
   "execution_count": 107,
   "id": "0388b598",
   "metadata": {},
   "outputs": [
    {
     "name": "stdout",
     "output_type": "stream",
     "text": [
      "0.42978277802467346\n",
      "0.27949345111846924\n",
      "0.16326142847537994\n",
      "0.1033998429775238\n",
      "0.07173749804496765\n",
      "0.05331667885184288\n",
      "0.04169181361794472\n",
      "0.03386203944683075\n",
      "0.02830837108194828\n",
      "0.024202927947044373\n",
      "0.021065078675746918\n",
      "0.018600229173898697\n",
      "0.016619928181171417\n",
      "0.014998339116573334\n",
      "0.01364880334585905\n",
      "0.012510128319263458\n",
      "0.011537816375494003\n",
      "0.010698738507926464\n",
      "0.009968064725399017\n",
      "0.00932641327381134\n"
     ]
    }
   ],
   "source": [
    "# set parameters\n",
    "\n",
    "lr = 0.05\n",
    "no_epochs = 2000\n",
    "err = []\n",
    "\n",
    "model = twoLayerNN()\n",
    "\n",
    "for epoch in range(no_epochs):\n",
    "    Z, H, U, fU, Y = model(X)\n",
    "    loss_ = loss_fn(U,D)\n",
    "    V, c, W, b = train(model, X, K, lr)\n",
    "\n",
    "    err.append(loss_.item())\n",
    "\n",
    "    if epoch%100==99:\n",
    "        print(loss_.item())\n"
   ]
  },
  {
   "cell_type": "code",
   "execution_count": 108,
   "id": "264374fb",
   "metadata": {},
   "outputs": [
    {
     "data": {
      "image/png": "[encoded data removed]",
      "text/plain": [
       "<Figure size 640x480 with 1 Axes>"
      ]
     },
     "metadata": {},
     "output_type": "display_data"
    }
   ],
   "source": [
    "# plot learning curve\n",
    "\n",
    "plt.plot(range(no_epochs), err)\n",
    "plt.xlabel(\"epochs\")\n",
    "plt.ylabel(\"error\")\n",
    "plt.title(\"Learning curve for 2 layer classification FFN\")\n",
    "plt.show()"
   ]
  },
  {
   "cell_type": "code",
   "execution_count": 109,
   "id": "2e8d80d3",
   "metadata": {},
   "outputs": [
    {
     "name": "stdout",
     "output_type": "stream",
     "text": [
      "V:  tensor([[ 5.2476, -6.7701,  2.2325],\n",
      "        [-2.2342, -1.2258,  3.5800],\n",
      "        [ 1.6006,  4.0371, -4.4677]])\n",
      "c:  tensor([[-1.8278,  1.1241,  0.7036]])\n",
      "W:  tensor([[-2.5554, -0.1789,  0.0541],\n",
      "        [-0.7120, -3.1324,  2.5770]])\n",
      "b:  tensor([[ 4.5068, -1.4092,  0.6162]])\n"
     ]
    }
   ],
   "source": [
    "# final weights and biases\n",
    "\n",
    "print(\"V: \", V)\n",
    "print(\"c: \", c)\n",
    "print(\"W: \", W)\n",
    "print(\"b: \", b)"
   ]
  },
  {
   "cell_type": "code",
   "execution_count": 111,
   "id": "9b9bbd22",
   "metadata": {},
   "outputs": [
    {
     "name": "stdout",
     "output_type": "stream",
     "text": [
      "0.009320410899817944\n",
      "tensor([0, 0, 1, 1, 2, 2])\n",
      "tensor([0, 0, 1, 1, 2, 2])\n"
     ]
    }
   ],
   "source": [
    "# one iteration\n",
    "# forward propagation\n",
    "Z = torch.matmul(X, W)+b\n",
    "H = torch.sigmoid(Z)\n",
    "\n",
    "U = torch.matmul(H, V)+c\n",
    "fU = torch.softmax(U, 1)\n",
    "\n",
    "Y = torch.argmax(fU,1)\n",
    "\n",
    "loss_ = loss_fn(U,D)\n",
    "print(loss_.item())\n",
    "\n",
    "print(Y)\n",
    "print(D)"
   ]
  }
 ],
 "metadata": {
  "kernelspec": {
   "display_name": "Python 3",
   "language": "python",
   "name": "python3"
  },
  "language_info": {
   "codemirror_mode": {
    "name": "ipython",
    "version": 3
   },
   "file_extension": ".py",
   "mimetype": "text/x-python",
   "name": "python",
   "nbconvert_exporter": "python",
   "pygments_lexer": "ipython3",
   "version": "3.11.4"
  }
 },
 "nbformat": 4,
 "nbformat_minor": 5
}
